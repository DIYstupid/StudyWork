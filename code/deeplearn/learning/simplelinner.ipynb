{
 "cells": [
  {
   "cell_type": "code",
   "execution_count": 1,
   "id": "1d41c2b7-d038-487c-8b84-0427a8db6dea",
   "metadata": {},
   "outputs": [],
   "source": [
    "import numpy as np\n",
    "import torch\n",
    "from torch.utils import data\n",
    "from d2l import torch as d2l\n",
    "\n",
    "true_w = torch.tensor([2, -3.4])\n",
    "true_b = 4.2\n",
    "features, labels = d2l.synthetic_data(true_w, true_b, 1000)  #人工数据合成函数"
   ]
  },
  {
   "cell_type": "code",
   "execution_count": 2,
   "id": "9ccc15ff-4388-4007-bfaa-9f4d9530eaeb",
   "metadata": {},
   "outputs": [
    {
     "data": {
      "text/plain": [
       "[tensor([[-1.3387, -0.6167],\n",
       "         [-0.1371, -0.0236],\n",
       "         [-0.9573, -0.2476],\n",
       "         [-0.8294,  0.8581],\n",
       "         [ 1.1791, -1.6894],\n",
       "         [ 0.0114, -0.6659],\n",
       "         [-0.1685,  2.6414],\n",
       "         [ 0.8902,  0.4600],\n",
       "         [ 2.6126,  0.7717],\n",
       "         [ 1.5906,  0.0903]]),\n",
       " tensor([[ 3.6259],\n",
       "         [ 3.9874],\n",
       "         [ 3.1330],\n",
       "         [-0.3875],\n",
       "         [12.3004],\n",
       "         [ 6.4898],\n",
       "         [-5.1137],\n",
       "         [ 4.4009],\n",
       "         [ 6.7963],\n",
       "         [ 7.1005]])]"
      ]
     },
     "execution_count": 2,
     "metadata": {},
     "output_type": "execute_result"
    }
   ],
   "source": [
    "def load_array(data_arrays, batch_size, is_train=True):  #@save\n",
    "    \"\"\"构造一个PyTorch数据迭代器\"\"\"\n",
    "    dataset = data.TensorDataset(*data_arrays)\n",
    "    return data.DataLoader(dataset, batch_size, shuffle=is_train)  #is_train表示是否希望数据迭代器对象在每个迭代周期内打乱数据。\n",
    "\n",
    "batch_size = 10\n",
    "data_iter = load_array((features, labels), batch_size)\n",
    "next(iter(data_iter))"
   ]
  },
  {
   "cell_type": "code",
   "execution_count": 3,
   "id": "470a5881-0aa0-40be-b9e7-e1cc1eff01c6",
   "metadata": {},
   "outputs": [],
   "source": [
    "# nn是神经网络的缩写\n",
    "from torch import nn\n",
    "\n",
    "net = nn.Sequential(nn.Linear(2, 1))"
   ]
  },
  {
   "cell_type": "code",
   "execution_count": 4,
   "id": "4b46bf97-4b35-4288-85e2-1b9f0a4ff9f2",
   "metadata": {},
   "outputs": [
    {
     "data": {
      "text/plain": [
       "tensor([0.])"
      ]
     },
     "execution_count": 4,
     "metadata": {},
     "output_type": "execute_result"
    }
   ],
   "source": [
    "net[0].weight.data.normal_(0, 0.01)\n",
    "net[0].bias.data.fill_(0)"
   ]
  },
  {
   "cell_type": "code",
   "execution_count": 5,
   "id": "b7a93a43-2705-4952-a730-ad3bb58dca77",
   "metadata": {},
   "outputs": [],
   "source": [
    "loss = nn.MSELoss() #设置均方误差"
   ]
  },
  {
   "cell_type": "code",
   "execution_count": 6,
   "id": "cb2fa297-688a-404f-a30c-e85e702c19ec",
   "metadata": {},
   "outputs": [],
   "source": [
    "trainer = torch.optim.SGD(net.parameters(), lr=0.03) #设置梯度优化算法"
   ]
  },
  {
   "cell_type": "code",
   "execution_count": 7,
   "id": "4685f900-c60f-4578-894d-87e5a6a31f67",
   "metadata": {},
   "outputs": [
    {
     "name": "stdout",
     "output_type": "stream",
     "text": [
      "epoch 1, loss 0.000161\n",
      "epoch 2, loss 0.000102\n",
      "epoch 3, loss 0.000102\n"
     ]
    }
   ],
   "source": [
    "num_epochs = 3\n",
    "for epoch in range(num_epochs):\n",
    "    for X, y in data_iter:\n",
    "        l = loss(net(X) ,y)\n",
    "        trainer.zero_grad() #梯度设置为0\n",
    "        l.backward()  #计算\n",
    "        trainer.step() #更新\n",
    "    l = loss(net(features), labels)\n",
    "    print(f'epoch {epoch + 1}, loss {l:f}')"
   ]
  },
  {
   "cell_type": "code",
   "execution_count": 8,
   "id": "41dca35f-e5bd-45c0-9335-02c24b939d5c",
   "metadata": {},
   "outputs": [
    {
     "name": "stdout",
     "output_type": "stream",
     "text": [
      "w的估计误差： tensor([-0.0005, -0.0004])\n",
      "b的估计误差： tensor([-0.0003])\n"
     ]
    }
   ],
   "source": [
    "w = net[0].weight.data\n",
    "print('w的估计误差：', true_w - w.reshape(true_w.shape))\n",
    "b = net[0].bias.data\n",
    "print('b的估计误差：', true_b - b)"
   ]
  }
 ],
 "metadata": {
  "kernelspec": {
   "display_name": "Python 3 (ipykernel)",
   "language": "python",
   "name": "python3"
  },
  "language_info": {
   "codemirror_mode": {
    "name": "ipython",
    "version": 3
   },
   "file_extension": ".py",
   "mimetype": "text/x-python",
   "name": "python",
   "nbconvert_exporter": "python",
   "pygments_lexer": "ipython3",
   "version": "3.9.1"
  }
 },
 "nbformat": 4,
 "nbformat_minor": 5
}
