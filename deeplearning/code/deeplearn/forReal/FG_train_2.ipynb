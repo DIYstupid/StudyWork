{
 "cells": [
  {
   "cell_type": "code",
   "execution_count": 50,
   "id": "1928c76a-1609-4417-8211-8106cca919a3",
   "metadata": {},
   "source": [
    "import torch\n",
    "from torch import nn\n",
    "from d2l import torch as d2l\n",
    "import numpy as np\n",
    "from torch.utils.data import Dataset\n",
    "from torch.utils.data import DataLoader\n",
    "import torchvision.transforms as transforms\n",
    "import os\n",
    "from typing import Any, Tuple\n",
    "\n",
    "os.environ['CUDA_LAUNCH_BLOCKING'] = '1'\n",
    "\n",
    "net = nn.Sequential(\n",
    "    nn.Conv2d(5, 10, kernel_size=3, stride=2, padding=1), nn.ReLU(),\n",
    "    nn.MaxPool2d(kernel_size=2 ),\n",
    "    nn.Conv2d(10, 30, kernel_size=3, stride=2, padding=1), nn.ReLU(),\n",
    "    nn.MaxPool2d(kernel_size=2 ),\n",
    "    nn.Flatten(),\n",
    "    nn.Linear(30,10), nn.ReLU(),\n",
    "  #  nn.Dropout(p=0.5),\n",
    "    nn.Linear(10, 2)\n",
    ")"
   ],
   "outputs": []
  },
  {
   "cell_type": "code",
   "execution_count": 51,
   "id": "d801f06b-dda0-4e79-ab2d-9a98c6f41a8d",
   "metadata": {},
   "source": [
    "X = torch.randn(1, 5, 17, 16)\n",
    "for layer in net:\n",
    "    X=layer(X)\n",
    "    print(layer.__class__.__name__,'output shape:\\t',X.shape)"
   ],
   "outputs": []
  },
  {
   "cell_type": "markdown",
   "id": "b6b0be44-4311-4cb3-af9e-6481484580d4",
   "metadata": {},
   "source": [
    "数据读入\n"
   ]
  },
  {
   "cell_type": "code",
   "execution_count": 52,
   "id": "ce236b8d-109e-49c7-9e12-9623119722fb",
   "metadata": {},
   "source": [
    "class MyDataset(Dataset):\n",
    "    def __init__(self,X,y):\n",
    "        super().__init__()\n",
    "        #创建一个list用来储存图片和标签信息\n",
    "        self.X = X\n",
    "        self.y = y\n",
    "    \n",
    "        \n",
    "\t#返回数据集大小\n",
    "    def __len__(self):\n",
    "        return len(self.X)\n",
    "\t#打开index对应图片进行预处理后return回处理后的图片和标签\n",
    "    def __getitem__(self, index: int) -> Tuple[Any, Any]:\n",
    "        img = self.X[index]\n",
    "        label = int(self.y[index])\n",
    "        return img,label\n"
   ],
   "outputs": []
  },
  {
   "cell_type": "code",
   "execution_count": null,
   "id": "962d032a-d7af-4ae1-a7ca-d9dbf2cb81a2",
   "metadata": {},
   "source": [
    "batch_size = 64\n",
    "\n",
    "# train_iter, test_iter = d2l.load_data_fashion_mnist(batch_size=batch_size)\n",
    "\n",
    "\n",
    "FG_data = np.load(\"./content/DE_Normalization.npy\")\n",
    "FG_data = np.array(FG_data).astype(np.float32)\n",
    "FG_data = torch.from_numpy(FG_data)\n",
    "FG_data = torch.reshape(FG_data,(20355,5,17,16))\n",
    "FG_labels = torch.from_numpy(np.load(\"./content/labels-numpy_data.npy\"))\n",
    "labels = torch.zeros([20355])\n",
    "for i in range(20355):\n",
    "    if FG_labels[i][0] < 0.35:\n",
    "        labels[i] = 0\n",
    "    else:\n",
    "        labels[i] = 1\n",
    "\n",
    "\n",
    "\n"
   ],
   "outputs": []
  },
  {
   "cell_type": "code",
   "execution_count": 54,
   "id": "9bad5a98-c196-4de3-814b-0f0f78af516a",
   "metadata": {},
   "source": [
    "train_data = FG_data[0:15000]\n",
    "train_label = labels[0:15000]\n",
    "test_data = FG_data[15001:20355]\n",
    "test_label = labels[15001:20355]\n",
    "\n",
    "\n",
    "train_set = MyDataset(train_data,train_label)\n",
    "test_set = MyDataset(train_data,train_label)\n"
   ],
   "outputs": []
  },
  {
   "cell_type": "code",
   "execution_count": 55,
   "id": "ce84695e-3cbe-420e-9efe-c8f0c5e46d29",
   "metadata": {},
   "source": [
    "train_iter = DataLoader(train_set, batch_size, shuffle=True,\n",
    "                                        num_workers=0)\n",
    "test_iter  =  DataLoader(test_set, batch_size, shuffle=True,\n",
    "                                        num_workers=0)"
   ],
   "outputs": []
  },
  {
   "cell_type": "code",
   "execution_count": 56,
   "id": "d56976de-cb91-41d7-8780-1953fc6cb298",
   "metadata": {},
   "source": [
    "def evaluate_accuracy_gpu(net, data_iter, device=None): #@save\n",
    "    \"\"\"使用GPU计算模型在数据集上的精度\"\"\"\n",
    "    if isinstance(net, nn.Module):\n",
    "        net.eval()  # 设置为评估模式\n",
    "        if not device:\n",
    "            device = next(iter(net.parameters())).device\n",
    "    # 正确预测的数量，总预测的数量\n",
    "    metric = d2l.Accumulator(2)\n",
    "    with torch.no_grad():\n",
    "        for X, y in data_iter:\n",
    "            if isinstance(X, list):\n",
    "                # BERT微调所需的（之后将介绍）\n",
    "                X = [x.to(device) for x in X]\n",
    "            else:\n",
    "                X = X.to(device)\n",
    "            y = y.to(device)\n",
    "            metric.add(d2l.accuracy(net(X), y), y.numel())\n",
    "    return metric[0] / metric[1]"
   ],
   "outputs": []
  },
  {
   "cell_type": "code",
   "execution_count": 57,
   "id": "09426818-3bcf-4e25-b4a2-860670b3b091",
   "metadata": {},
   "source": [
    "#@save\n",
    "def train_ch6(net, train_iter, test_iter, num_epochs, lr, device):\n",
    "    \"\"\"用GPU训练模型(在第六章定义)\"\"\"\n",
    "    def init_weights(m):\n",
    "        if type(m) == nn.Linear or type(m) == nn.Conv2d:\n",
    "            nn.init.xavier_uniform_(m.weight)\n",
    "    net.apply(init_weights)\n",
    "    print('training on', device)\n",
    "    net.to(device)\n",
    "    optimizer = torch.optim.SGD(net.parameters(), lr=lr)\n",
    "    loss = nn.CrossEntropyLoss()\n",
    "    animator = d2l.Animator(xlabel='epoch', xlim=[1, num_epochs],\n",
    "                            legend=['train loss', 'train acc', 'test acc'])\n",
    "    timer, num_batches = d2l.Timer(), len(train_iter)\n",
    "    for epoch in range(num_epochs):\n",
    "        # 训练损失之和，训练准确率之和，样本数\n",
    "        metric = d2l.Accumulator(3)\n",
    "        net.train()\n",
    "        for i, (X, y) in enumerate(train_iter):\n",
    "\n",
    "            timer.start()\n",
    "            optimizer.zero_grad()\n",
    "            X, y = X.to(device), y.to(device)\n",
    "            y_hat = net(X)\n",
    "            \n",
    "            y = torch.squeeze(y)\n",
    "            y = y.long()\n",
    "            l = loss(y_hat, y)\n",
    "            l.backward()\n",
    "            optimizer.step()\n",
    "            with torch.no_grad():\n",
    "                metric.add(l * X.shape[0], d2l.accuracy(y_hat, y), X.shape[0])\n",
    "            timer.stop()\n",
    "            train_l = metric[0] / metric[2]\n",
    "            train_acc = metric[1] / metric[2]\n",
    "            if (i + 1) % (num_batches // 5) == 0 or i == num_batches - 1:\n",
    "                animator.add(epoch + (i + 1) / num_batches,\n",
    "                             (train_l, train_acc, None))\n",
    "        test_acc = evaluate_accuracy_gpu(net, test_iter)\n",
    "        animator.add(epoch + 1, (None, None, test_acc))\n",
    "    print(f'loss {train_l:.3f}, train acc {train_acc:.3f}, '\n",
    "          f'test acc {test_acc:.3f}')\n",
    "    print(f'{metric[2] * num_epochs / timer.sum():.1f} examples/sec '\n",
    "          f'on {str(device)}')\n",
    "    \n"
   ],
   "outputs": []
  },
  {
   "cell_type": "code",
   "execution_count": 58,
   "id": "6d7f954e-f095-4f5a-9427-428b129ea718",
   "metadata": {},
   "source": [
    "def try_gpu(i=0):\n",
    "    if torch.cuda.device_count() >= i + 1:\n",
    "        return torch.device(f'cuda:{i}')\n",
    "    return torch.device('cpu')"
   ],
   "outputs": []
  },
  {
   "cell_type": "code",
   "execution_count": 60,
   "id": "1804ca18-c1fc-4ee7-8964-1fc4175ee05b",
   "metadata": {},
   "source": [
    "lr, num_epochs = 1e-1, 100\n",
    "train_ch6(net, train_iter, test_iter, num_epochs, lr, try_gpu())"
   ],
   "outputs": []
  },
  {
   "cell_type": "code",
   "execution_count": null,
   "id": "532426b4-f76b-4e11-8909-26ce45b45c4b",
   "metadata": {},
   "source": [],
   "outputs": []
  },
  {
   "cell_type": "code",
   "execution_count": null,
   "id": "c9bafbe9-dc10-44ad-a497-32d830a2a598",
   "metadata": {},
   "source": [],
   "outputs": []
  },
  {
   "cell_type": "code",
   "execution_count": null,
   "id": "ff56c607-30c5-4bc5-a128-127dd79a5095",
   "metadata": {},
   "source": [],
   "outputs": []
  }
 ],
 "metadata": {
  "kernelspec": {
   "display_name": "Python 3 (ipykernel)",
   "language": "python",
   "name": "python3"
  },
  "language_info": {
   "codemirror_mode": {
    "name": "ipython",
    "version": 3
   },
   "file_extension": ".py",
   "mimetype": "text/x-python",
   "name": "python",
   "nbconvert_exporter": "python",
   "pygments_lexer": "ipython3",
   "version": "3.9.1"
  }
 },
 "nbformat": 4,
 "nbformat_minor": 5
}
